{
 "cells": [
  {
   "cell_type": "markdown",
   "metadata": {},
   "source": [
    "# Matrix Multiplication"
   ]
  },
  {
   "cell_type": "markdown",
   "metadata": {},
   "source": [
    "## Association veness of Matrix Multiplication"
   ]
  },
  {
   "cell_type": "code",
   "execution_count": 2,
   "metadata": {},
   "outputs": [],
   "source": [
    "import sympy as sp"
   ]
  },
  {
   "cell_type": "code",
   "execution_count": 3,
   "metadata": {},
   "outputs": [],
   "source": [
    "a11, a12, a21, a22 = sp.symbols(\"a11 a12 a21 a22\")\n",
    "b11, b12, b21, b22 = sp.symbols(\"b11 b12 b21 b22\")\n",
    "c11, c12, c21, c22 = sp.symbols(\"c11 c12 c21 c22\")\n",
    "A = sp.Matrix([[a11, a12], [a21, a22]])\n",
    "B = sp.Matrix([[b11, b12], [b21, b22]])\n",
    "C = sp.Matrix([[c11, c12], [c21, c22]])"
   ]
  },
  {
   "cell_type": "code",
   "execution_count": 4,
   "metadata": {},
   "outputs": [],
   "source": [
    "result1 = A * B * C\n",
    "result2 = A * (B * C)"
   ]
  },
  {
   "cell_type": "code",
   "execution_count": 5,
   "metadata": {},
   "outputs": [
    {
     "data": {
      "text/plain": [
       "True"
      ]
     },
     "execution_count": 5,
     "metadata": {},
     "output_type": "execute_result"
    }
   ],
   "source": [
    "result1.equals(result2)"
   ]
  },
  {
   "cell_type": "markdown",
   "metadata": {},
   "source": [
    "## Move to Point Rotation"
   ]
  },
  {
   "cell_type": "code",
   "execution_count": 6,
   "metadata": {},
   "outputs": [],
   "source": [
    "t1, t2, t3 = sp.symbols(\"t1 t2 t3\")\n",
    "a11, a12, a13, a21, a22, a23, a31, a32, a33 = sp.symbols(\n",
    "    \"a11 a12 a13 a21 a22 a23 a31 a32 a33\"\n",
    ")"
   ]
  },
  {
   "cell_type": "code",
   "execution_count": 7,
   "metadata": {},
   "outputs": [],
   "source": [
    "trans_off = sp.Matrix(\n",
    "    [\n",
    "        [1, 0, 0, -t1],\n",
    "        [0, 1, 0, -t2],\n",
    "        [0, 0, 1, -t3],\n",
    "        [0, 0, 0, 1],\n",
    "    ]\n",
    ")\n",
    "trans_back = sp.Matrix(\n",
    "    [\n",
    "        [1, 0, 0, t1],\n",
    "        [0, 1, 0, t2],\n",
    "        [0, 0, 1, t3],\n",
    "        [0, 0, 0, 1],\n",
    "    ]\n",
    ")\n",
    "rotate = sp.Matrix(\n",
    "    [\n",
    "        [a11, a12, a13, 0],\n",
    "        [a21, a22, a23, 0],\n",
    "        [a31, a32, a33, 0],\n",
    "        [0, 0, 0, 1],\n",
    "    ]\n",
    ")"
   ]
  },
  {
   "cell_type": "code",
   "execution_count": 8,
   "metadata": {},
   "outputs": [
    {
     "data": {
      "text/latex": [
       "$\\displaystyle \\left[\\begin{matrix}a_{11} & a_{12} & a_{13} & a_{11} t_{1} + a_{12} t_{2} + a_{13} t_{3} - t_{1}\\\\a_{21} & a_{22} & a_{23} & a_{21} t_{1} + a_{22} t_{2} + a_{23} t_{3} - t_{2}\\\\a_{31} & a_{32} & a_{33} & a_{31} t_{1} + a_{32} t_{2} + a_{33} t_{3} - t_{3}\\\\0 & 0 & 0 & 1\\end{matrix}\\right]$"
      ],
      "text/plain": [
       "Matrix([\n",
       "[a11, a12, a13, a11*t1 + a12*t2 + a13*t3 - t1],\n",
       "[a21, a22, a23, a21*t1 + a22*t2 + a23*t3 - t2],\n",
       "[a31, a32, a33, a31*t1 + a32*t2 + a33*t3 - t3],\n",
       "[  0,   0,   0,                             1]])"
      ]
     },
     "execution_count": 8,
     "metadata": {},
     "output_type": "execute_result"
    }
   ],
   "source": [
    "trans_off * rotate * trans_back"
   ]
  },
  {
   "cell_type": "code",
   "execution_count": null,
   "metadata": {},
   "outputs": [],
   "source": []
  }
 ],
 "metadata": {
  "kernelspec": {
   "display_name": "Python 3",
   "language": "python",
   "name": "python3"
  },
  "language_info": {
   "codemirror_mode": {
    "name": "ipython",
    "version": 3
   },
   "file_extension": ".py",
   "mimetype": "text/x-python",
   "name": "python",
   "nbconvert_exporter": "python",
   "pygments_lexer": "ipython3",
   "version": "3.13.0"
  }
 },
 "nbformat": 4,
 "nbformat_minor": 2
}
